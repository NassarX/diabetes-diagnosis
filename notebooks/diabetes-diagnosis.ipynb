{
 "cells": [
  {
   "cell_type": "markdown",
   "source": [],
   "metadata": {
    "collapsed": false
   },
   "id": "91283cd319a328bf"
  },
  {
   "cell_type": "markdown",
   "source": [
    "# Diabetes Diagnosis\n",
    "\n",
    "### <u>Dataset Description</u>\n",
    "This dataset is originally from the National Institute of Diabetes and Digestive and Kidney Diseases. <a href=\"https://www.kaggle.com/datasets/mathchi/diabetes-data-set\">Kaggle Link</a> The objective is to predict based on diagnostic measurements whether a patient has diabetes."
   ],
   "metadata": {
    "collapsed": false,
    "ExecuteTime": {
     "end_time": "2023-12-02T13:37:46.914689Z",
     "start_time": "2023-12-02T13:37:46.912040Z"
    }
   },
   "id": "50643ab33439e302"
  },
  {
   "cell_type": "code",
   "execution_count": 2,
   "id": "3e869489",
   "metadata": {
    "_cell_guid": "b1076dfc-b9ad-4769-8c92-a6c4dae69d19",
    "_uuid": "8f2839f25d086af736a60e9eeb907d3b93b6e0e5",
    "execution": {
     "iopub.execute_input": "2023-11-15T00:45:11.470987Z",
     "iopub.status.busy": "2023-11-15T00:45:11.470224Z",
     "iopub.status.idle": "2023-11-15T00:45:11.888206Z",
     "shell.execute_reply": "2023-11-15T00:45:11.887074Z"
    },
    "papermill": {
     "duration": 0.431706,
     "end_time": "2023-11-15T00:45:11.890415",
     "exception": false,
     "start_time": "2023-11-15T00:45:11.458709",
     "status": "completed"
    },
    "tags": [],
    "ExecuteTime": {
     "end_time": "2023-12-02T13:37:47.166961Z",
     "start_time": "2023-12-02T13:37:47.155728Z"
    }
   },
   "outputs": [],
   "source": [
    "import numpy as np\n",
    "import pandas as pd\n",
    "import pickle\n",
    "\n",
    "import os\n",
    "for dirname, _, filenames in os.walk('dataset'):\n",
    "    for filename in filenames:\n",
    "        print(os.path.join(dirname, filename))"
   ]
  },
  {
   "cell_type": "code",
   "execution_count": 2,
   "id": "d0da7b33",
   "metadata": {
    "execution": {
     "iopub.execute_input": "2023-11-15T00:45:11.910114Z",
     "iopub.status.busy": "2023-11-15T00:45:11.909549Z",
     "iopub.status.idle": "2023-11-15T00:45:11.914445Z",
     "shell.execute_reply": "2023-11-15T00:45:11.913340Z"
    },
    "papermill": {
     "duration": 0.017174,
     "end_time": "2023-11-15T00:45:11.916617",
     "exception": false,
     "start_time": "2023-11-15T00:45:11.899443",
     "status": "completed"
    },
    "tags": [],
    "ExecuteTime": {
     "end_time": "2023-12-02T13:00:29.359433Z",
     "start_time": "2023-12-02T13:00:29.340400Z"
    }
   },
   "outputs": [],
   "source": [
    "# To turn off warning messages\n",
    "import warnings\n",
    "warnings.filterwarnings('ignore')"
   ]
  },
  {
   "cell_type": "markdown",
   "id": "a21ff2cd",
   "metadata": {
    "papermill": {
     "duration": 0.007999,
     "end_time": "2023-11-15T00:45:11.932997",
     "exception": false,
     "start_time": "2023-11-15T00:45:11.924998",
     "status": "completed"
    },
    "tags": [],
    "ExecuteTime": {
     "end_time": "2023-12-02T13:37:48.569594Z",
     "start_time": "2023-12-02T13:37:48.559552Z"
    }
   },
   "source": [
    "## Importing Dataset"
   ]
  },
  {
   "cell_type": "code",
   "execution_count": null,
   "id": "0ee47073",
   "metadata": {
    "execution": {
     "iopub.execute_input": "2023-11-15T00:45:11.951862Z",
     "iopub.status.busy": "2023-11-15T00:45:11.951204Z",
     "iopub.status.idle": "2023-11-15T00:45:11.990393Z",
     "shell.execute_reply": "2023-11-15T00:45:11.989344Z"
    },
    "papermill": {
     "duration": 0.051594,
     "end_time": "2023-11-15T00:45:11.992937",
     "exception": false,
     "start_time": "2023-11-15T00:45:11.941343",
     "status": "completed"
    },
    "tags": []
   },
   "outputs": [],
   "source": [
    "import pandas as pd\n",
    "df = pd.read_csv('../dataset/diabetes.csv.xls')\n",
    "df.head()"
   ]
  },
  {
   "cell_type": "markdown",
   "id": "8a93d4ad",
   "metadata": {
    "papermill": {
     "duration": 0.00884,
     "end_time": "2023-11-15T00:45:12.010513",
     "exception": false,
     "start_time": "2023-11-15T00:45:12.001673",
     "status": "completed"
    },
    "tags": [],
    "ExecuteTime": {
     "end_time": "2023-12-02T13:37:49.011225Z",
     "start_time": "2023-12-02T13:37:49.005144Z"
    }
   },
   "source": [
    "## Exploratory Data Analysis (EDA)"
   ]
  },
  {
   "cell_type": "code",
   "execution_count": 6,
   "id": "d8e03f46",
   "metadata": {
    "execution": {
     "iopub.execute_input": "2023-11-15T00:45:12.030003Z",
     "iopub.status.busy": "2023-11-15T00:45:12.029595Z",
     "iopub.status.idle": "2023-11-15T00:45:12.054736Z",
     "shell.execute_reply": "2023-11-15T00:45:12.053551Z"
    },
    "papermill": {
     "duration": 0.038055,
     "end_time": "2023-11-15T00:45:12.057354",
     "exception": false,
     "start_time": "2023-11-15T00:45:12.019299",
     "status": "completed"
    },
    "tags": [],
    "ExecuteTime": {
     "end_time": "2023-12-02T13:00:44.664005Z",
     "start_time": "2023-12-02T13:00:44.660094Z"
    }
   },
   "outputs": [
    {
     "name": "stdout",
     "output_type": "stream",
     "text": [
      "(768, 9)\n",
      "======================================\n",
      "Index(['Pregnancies', 'Glucose', 'BloodPressure', 'SkinThickness', 'Insulin',\n",
      "       'BMI', 'DiabetesPedigreeFunction', 'Age', 'Outcome'],\n",
      "      dtype='object')\n",
      "======================================\n",
      "<class 'pandas.core.frame.DataFrame'>\n",
      "RangeIndex: 768 entries, 0 to 767\n",
      "Data columns (total 9 columns):\n",
      " #   Column                    Non-Null Count  Dtype  \n",
      "---  ------                    --------------  -----  \n",
      " 0   Pregnancies               768 non-null    int64  \n",
      " 1   Glucose                   768 non-null    int64  \n",
      " 2   BloodPressure             768 non-null    int64  \n",
      " 3   SkinThickness             768 non-null    int64  \n",
      " 4   Insulin                   768 non-null    int64  \n",
      " 5   BMI                       768 non-null    float64\n",
      " 6   DiabetesPedigreeFunction  768 non-null    float64\n",
      " 7   Age                       768 non-null    int64  \n",
      " 8   Outcome                   768 non-null    int64  \n",
      "dtypes: float64(2), int64(7)\n",
      "memory usage: 54.1 KB\n"
     ]
    }
   ],
   "source": [
    "print(df.shape)\n",
    "print('======================================')\n",
    "print(df.columns)\n",
    "print('======================================')\n",
    "df.info()"
   ]
  },
  {
   "cell_type": "markdown",
   "id": "0bbd4699",
   "metadata": {
    "papermill": {
     "duration": 0.009039,
     "end_time": "2023-11-15T00:45:12.075628",
     "exception": false,
     "start_time": "2023-11-15T00:45:12.066589",
     "status": "completed"
    },
    "tags": [],
    "ExecuteTime": {
     "end_time": "2023-12-02T13:37:49.765714Z",
     "start_time": "2023-12-02T13:37:49.419840Z"
    }
   },
   "source": [
    "## Calculate the correlation between features"
   ]
  },
  {
   "cell_type": "code",
   "execution_count": 6,
   "id": "5ebc222f",
   "metadata": {
    "execution": {
     "iopub.execute_input": "2023-11-15T00:45:12.095690Z",
     "iopub.status.busy": "2023-11-15T00:45:12.095006Z",
     "iopub.status.idle": "2023-11-15T00:45:14.149788Z",
     "shell.execute_reply": "2023-11-15T00:45:14.148616Z"
    },
    "papermill": {
     "duration": 2.068341,
     "end_time": "2023-11-15T00:45:14.152985",
     "exception": false,
     "start_time": "2023-11-15T00:45:12.084644",
     "status": "completed"
    },
    "tags": [],
    "ExecuteTime": {
     "end_time": "2023-12-02T13:37:49.766337Z",
     "start_time": "2023-12-02T13:37:49.681947Z"
    }
   },
   "outputs": [
    {
     "data": {
      "text/plain": "   Pregnancies  Glucose  BloodPressure  SkinThickness  Insulin   BMI  \\\n0          6.0    148.0           72.0           35.0      0.0  33.6   \n1          1.0     85.0           66.0           29.0      0.0  26.6   \n2          8.0    183.0           64.0            0.0      0.0  23.3   \n3          1.0     89.0           66.0           23.0     94.0  28.1   \n4          0.0    137.0           40.0           35.0    168.0  43.1   \n\n   DiabetesPedigreeFunction   Age  Outcome  \n0                     0.627  50.0      1.0  \n1                     0.351  31.0      0.0  \n2                     0.672  32.0      1.0  \n3                     0.167  21.0      0.0  \n4                     2.288  33.0      1.0  ",
      "text/html": "<div>\n<style scoped>\n    .dataframe tbody tr th:only-of-type {\n        vertical-align: middle;\n    }\n\n    .dataframe tbody tr th {\n        vertical-align: top;\n    }\n\n    .dataframe thead th {\n        text-align: right;\n    }\n</style>\n<table border=\"1\" class=\"dataframe\">\n  <thead>\n    <tr style=\"text-align: right;\">\n      <th></th>\n      <th>Pregnancies</th>\n      <th>Glucose</th>\n      <th>BloodPressure</th>\n      <th>SkinThickness</th>\n      <th>Insulin</th>\n      <th>BMI</th>\n      <th>DiabetesPedigreeFunction</th>\n      <th>Age</th>\n      <th>Outcome</th>\n    </tr>\n  </thead>\n  <tbody>\n    <tr>\n      <th>0</th>\n      <td>6.0</td>\n      <td>148.0</td>\n      <td>72.0</td>\n      <td>35.0</td>\n      <td>0.0</td>\n      <td>33.6</td>\n      <td>0.627</td>\n      <td>50.0</td>\n      <td>1.0</td>\n    </tr>\n    <tr>\n      <th>1</th>\n      <td>1.0</td>\n      <td>85.0</td>\n      <td>66.0</td>\n      <td>29.0</td>\n      <td>0.0</td>\n      <td>26.6</td>\n      <td>0.351</td>\n      <td>31.0</td>\n      <td>0.0</td>\n    </tr>\n    <tr>\n      <th>2</th>\n      <td>8.0</td>\n      <td>183.0</td>\n      <td>64.0</td>\n      <td>0.0</td>\n      <td>0.0</td>\n      <td>23.3</td>\n      <td>0.672</td>\n      <td>32.0</td>\n      <td>1.0</td>\n    </tr>\n    <tr>\n      <th>3</th>\n      <td>1.0</td>\n      <td>89.0</td>\n      <td>66.0</td>\n      <td>23.0</td>\n      <td>94.0</td>\n      <td>28.1</td>\n      <td>0.167</td>\n      <td>21.0</td>\n      <td>0.0</td>\n    </tr>\n    <tr>\n      <th>4</th>\n      <td>0.0</td>\n      <td>137.0</td>\n      <td>40.0</td>\n      <td>35.0</td>\n      <td>168.0</td>\n      <td>43.1</td>\n      <td>2.288</td>\n      <td>33.0</td>\n      <td>1.0</td>\n    </tr>\n  </tbody>\n</table>\n</div>"
     },
     "execution_count": 6,
     "metadata": {},
     "output_type": "execute_result"
    }
   ],
   "source": [
    "# Calculate correlation matrix\n",
    "corr = df.corr()\n",
    "# constructing a heatmap to nderstand the correlation\n",
    "import matplotlib.pyplot as plt\n",
    "import seaborn as sns\n",
    "plt.figure(figsize=(12,12))\n",
    "sns.heatmap(corr, cbar=True, square=True, fmt='.1f', annot=True, \n",
    "            annot_kws={'size':8}, cmap='Blues')"
   ]
  },
  {
   "cell_type": "code",
   "execution_count": 7,
   "id": "a41440f5",
   "metadata": {
    "execution": {
     "iopub.execute_input": "2023-11-15T00:45:14.175888Z",
     "iopub.status.busy": "2023-11-15T00:45:14.175259Z",
     "iopub.status.idle": "2023-11-15T00:45:14.195246Z",
     "shell.execute_reply": "2023-11-15T00:45:14.194432Z"
    },
    "papermill": {
     "duration": 0.034162,
     "end_time": "2023-11-15T00:45:14.197448",
     "exception": false,
     "start_time": "2023-11-15T00:45:14.163286",
     "status": "completed"
    },
    "tags": [],
    "ExecuteTime": {
     "end_time": "2023-12-02T13:37:49.869028Z",
     "start_time": "2023-12-02T13:37:49.800693Z"
    }
   },
   "outputs": [
    {
     "name": "stdout",
     "output_type": "stream",
     "text": [
      "df duplicated values:  0\n",
      "======================================\n",
      "df missing values:\n",
      " Pregnancies                 0\n",
      "Glucose                     0\n",
      "BloodPressure               0\n",
      "SkinThickness               0\n",
      "Insulin                     0\n",
      "BMI                         0\n",
      "DiabetesPedigreeFunction    0\n",
      "Age                         0\n",
      "Outcome                     0\n",
      "dtype: int64\n"
     ]
    }
   ],
   "source": [
    "df1 = df.astype(float)\n",
    "df1.head()"
   ]
  },
  {
   "cell_type": "code",
   "execution_count": 8,
   "id": "b5a86317",
   "metadata": {
    "execution": {
     "iopub.execute_input": "2023-11-15T00:45:14.221074Z",
     "iopub.status.busy": "2023-11-15T00:45:14.220108Z",
     "iopub.status.idle": "2023-11-15T00:45:14.232768Z",
     "shell.execute_reply": "2023-11-15T00:45:14.231169Z"
    },
    "papermill": {
     "duration": 0.027478,
     "end_time": "2023-11-15T00:45:14.235514",
     "exception": false,
     "start_time": "2023-11-15T00:45:14.208036",
     "status": "completed"
    },
    "tags": [],
    "ExecuteTime": {
     "end_time": "2023-12-02T13:37:49.983224Z",
     "start_time": "2023-12-02T13:37:49.969028Z"
    }
   },
   "outputs": [
    {
     "data": {
      "text/plain": "                          count        mean         std     min       25%  \\\nPregnancies               768.0    3.845052    3.369578   0.000   1.00000   \nGlucose                   768.0  120.894531   31.972618   0.000  99.00000   \nBloodPressure             768.0   69.105469   19.355807   0.000  62.00000   \nSkinThickness             768.0   20.536458   15.952218   0.000   0.00000   \nInsulin                   768.0   79.799479  115.244002   0.000   0.00000   \nBMI                       768.0   31.992578    7.884160   0.000  27.30000   \nDiabetesPedigreeFunction  768.0    0.471876    0.331329   0.078   0.24375   \nAge                       768.0   33.240885   11.760232  21.000  24.00000   \nOutcome                   768.0    0.348958    0.476951   0.000   0.00000   \n\n                               50%        75%     max  \nPregnancies                 3.0000    6.00000   17.00  \nGlucose                   117.0000  140.25000  199.00  \nBloodPressure              72.0000   80.00000  122.00  \nSkinThickness              23.0000   32.00000   99.00  \nInsulin                    30.5000  127.25000  846.00  \nBMI                        32.0000   36.60000   67.10  \nDiabetesPedigreeFunction    0.3725    0.62625    2.42  \nAge                        29.0000   41.00000   81.00  \nOutcome                     0.0000    1.00000    1.00  ",
      "text/html": "<div>\n<style scoped>\n    .dataframe tbody tr th:only-of-type {\n        vertical-align: middle;\n    }\n\n    .dataframe tbody tr th {\n        vertical-align: top;\n    }\n\n    .dataframe thead th {\n        text-align: right;\n    }\n</style>\n<table border=\"1\" class=\"dataframe\">\n  <thead>\n    <tr style=\"text-align: right;\">\n      <th></th>\n      <th>count</th>\n      <th>mean</th>\n      <th>std</th>\n      <th>min</th>\n      <th>25%</th>\n      <th>50%</th>\n      <th>75%</th>\n      <th>max</th>\n    </tr>\n  </thead>\n  <tbody>\n    <tr>\n      <th>Pregnancies</th>\n      <td>768.0</td>\n      <td>3.845052</td>\n      <td>3.369578</td>\n      <td>0.000</td>\n      <td>1.00000</td>\n      <td>3.0000</td>\n      <td>6.00000</td>\n      <td>17.00</td>\n    </tr>\n    <tr>\n      <th>Glucose</th>\n      <td>768.0</td>\n      <td>120.894531</td>\n      <td>31.972618</td>\n      <td>0.000</td>\n      <td>99.00000</td>\n      <td>117.0000</td>\n      <td>140.25000</td>\n      <td>199.00</td>\n    </tr>\n    <tr>\n      <th>BloodPressure</th>\n      <td>768.0</td>\n      <td>69.105469</td>\n      <td>19.355807</td>\n      <td>0.000</td>\n      <td>62.00000</td>\n      <td>72.0000</td>\n      <td>80.00000</td>\n      <td>122.00</td>\n    </tr>\n    <tr>\n      <th>SkinThickness</th>\n      <td>768.0</td>\n      <td>20.536458</td>\n      <td>15.952218</td>\n      <td>0.000</td>\n      <td>0.00000</td>\n      <td>23.0000</td>\n      <td>32.00000</td>\n      <td>99.00</td>\n    </tr>\n    <tr>\n      <th>Insulin</th>\n      <td>768.0</td>\n      <td>79.799479</td>\n      <td>115.244002</td>\n      <td>0.000</td>\n      <td>0.00000</td>\n      <td>30.5000</td>\n      <td>127.25000</td>\n      <td>846.00</td>\n    </tr>\n    <tr>\n      <th>BMI</th>\n      <td>768.0</td>\n      <td>31.992578</td>\n      <td>7.884160</td>\n      <td>0.000</td>\n      <td>27.30000</td>\n      <td>32.0000</td>\n      <td>36.60000</td>\n      <td>67.10</td>\n    </tr>\n    <tr>\n      <th>DiabetesPedigreeFunction</th>\n      <td>768.0</td>\n      <td>0.471876</td>\n      <td>0.331329</td>\n      <td>0.078</td>\n      <td>0.24375</td>\n      <td>0.3725</td>\n      <td>0.62625</td>\n      <td>2.42</td>\n    </tr>\n    <tr>\n      <th>Age</th>\n      <td>768.0</td>\n      <td>33.240885</td>\n      <td>11.760232</td>\n      <td>21.000</td>\n      <td>24.00000</td>\n      <td>29.0000</td>\n      <td>41.00000</td>\n      <td>81.00</td>\n    </tr>\n    <tr>\n      <th>Outcome</th>\n      <td>768.0</td>\n      <td>0.348958</td>\n      <td>0.476951</td>\n      <td>0.000</td>\n      <td>0.00000</td>\n      <td>0.0000</td>\n      <td>1.00000</td>\n      <td>1.00</td>\n    </tr>\n  </tbody>\n</table>\n</div>"
     },
     "execution_count": 8,
     "metadata": {},
     "output_type": "execute_result"
    }
   ],
   "source": [
    "# Check duplicated values:\n",
    "print('df duplicated values: ',df1.duplicated().sum())\n",
    "print('======================================')\n",
    "# Check missing values:\n",
    "print('df missing values:\\n',df1.isnull().sum())"
   ]
  },
  {
   "cell_type": "code",
   "execution_count": 10,
   "id": "9c63c698",
   "metadata": {
    "execution": {
     "iopub.execute_input": "2023-11-15T00:45:14.259714Z",
     "iopub.status.busy": "2023-11-15T00:45:14.259049Z",
     "iopub.status.idle": "2023-11-15T00:45:14.302388Z",
     "shell.execute_reply": "2023-11-15T00:45:14.301205Z"
    },
    "papermill": {
     "duration": 0.058426,
     "end_time": "2023-11-15T00:45:14.304768",
     "exception": false,
     "start_time": "2023-11-15T00:45:14.246342",
     "status": "completed"
    },
    "tags": [],
    "ExecuteTime": {
     "end_time": "2023-12-02T13:00:47.640911Z",
     "start_time": "2023-12-02T13:00:47.628561Z"
    }
   },
   "outputs": [
    {
     "data": {
      "text/plain": "                          count        mean         std     min       25%  \\\nPregnancies               768.0    3.845052    3.369578   0.000   1.00000   \nGlucose                   768.0  120.894531   31.972618   0.000  99.00000   \nBloodPressure             768.0   69.105469   19.355807   0.000  62.00000   \nSkinThickness             768.0   20.536458   15.952218   0.000   0.00000   \nInsulin                   768.0   79.799479  115.244002   0.000   0.00000   \nBMI                       768.0   31.992578    7.884160   0.000  27.30000   \nDiabetesPedigreeFunction  768.0    0.471876    0.331329   0.078   0.24375   \nAge                       768.0   33.240885   11.760232  21.000  24.00000   \nOutcome                   768.0    0.348958    0.476951   0.000   0.00000   \n\n                               50%        75%     max  \nPregnancies                 3.0000    6.00000   17.00  \nGlucose                   117.0000  140.25000  199.00  \nBloodPressure              72.0000   80.00000  122.00  \nSkinThickness              23.0000   32.00000   99.00  \nInsulin                    30.5000  127.25000  846.00  \nBMI                        32.0000   36.60000   67.10  \nDiabetesPedigreeFunction    0.3725    0.62625    2.42  \nAge                        29.0000   41.00000   81.00  \nOutcome                     0.0000    1.00000    1.00  ",
      "text/html": "<div>\n<style scoped>\n    .dataframe tbody tr th:only-of-type {\n        vertical-align: middle;\n    }\n\n    .dataframe tbody tr th {\n        vertical-align: top;\n    }\n\n    .dataframe thead th {\n        text-align: right;\n    }\n</style>\n<table border=\"1\" class=\"dataframe\">\n  <thead>\n    <tr style=\"text-align: right;\">\n      <th></th>\n      <th>count</th>\n      <th>mean</th>\n      <th>std</th>\n      <th>min</th>\n      <th>25%</th>\n      <th>50%</th>\n      <th>75%</th>\n      <th>max</th>\n    </tr>\n  </thead>\n  <tbody>\n    <tr>\n      <th>Pregnancies</th>\n      <td>768.0</td>\n      <td>3.845052</td>\n      <td>3.369578</td>\n      <td>0.000</td>\n      <td>1.00000</td>\n      <td>3.0000</td>\n      <td>6.00000</td>\n      <td>17.00</td>\n    </tr>\n    <tr>\n      <th>Glucose</th>\n      <td>768.0</td>\n      <td>120.894531</td>\n      <td>31.972618</td>\n      <td>0.000</td>\n      <td>99.00000</td>\n      <td>117.0000</td>\n      <td>140.25000</td>\n      <td>199.00</td>\n    </tr>\n    <tr>\n      <th>BloodPressure</th>\n      <td>768.0</td>\n      <td>69.105469</td>\n      <td>19.355807</td>\n      <td>0.000</td>\n      <td>62.00000</td>\n      <td>72.0000</td>\n      <td>80.00000</td>\n      <td>122.00</td>\n    </tr>\n    <tr>\n      <th>SkinThickness</th>\n      <td>768.0</td>\n      <td>20.536458</td>\n      <td>15.952218</td>\n      <td>0.000</td>\n      <td>0.00000</td>\n      <td>23.0000</td>\n      <td>32.00000</td>\n      <td>99.00</td>\n    </tr>\n    <tr>\n      <th>Insulin</th>\n      <td>768.0</td>\n      <td>79.799479</td>\n      <td>115.244002</td>\n      <td>0.000</td>\n      <td>0.00000</td>\n      <td>30.5000</td>\n      <td>127.25000</td>\n      <td>846.00</td>\n    </tr>\n    <tr>\n      <th>BMI</th>\n      <td>768.0</td>\n      <td>31.992578</td>\n      <td>7.884160</td>\n      <td>0.000</td>\n      <td>27.30000</td>\n      <td>32.0000</td>\n      <td>36.60000</td>\n      <td>67.10</td>\n    </tr>\n    <tr>\n      <th>DiabetesPedigreeFunction</th>\n      <td>768.0</td>\n      <td>0.471876</td>\n      <td>0.331329</td>\n      <td>0.078</td>\n      <td>0.24375</td>\n      <td>0.3725</td>\n      <td>0.62625</td>\n      <td>2.42</td>\n    </tr>\n    <tr>\n      <th>Age</th>\n      <td>768.0</td>\n      <td>33.240885</td>\n      <td>11.760232</td>\n      <td>21.000</td>\n      <td>24.00000</td>\n      <td>29.0000</td>\n      <td>41.00000</td>\n      <td>81.00</td>\n    </tr>\n    <tr>\n      <th>Outcome</th>\n      <td>768.0</td>\n      <td>0.348958</td>\n      <td>0.476951</td>\n      <td>0.000</td>\n      <td>0.00000</td>\n      <td>0.0000</td>\n      <td>1.00000</td>\n      <td>1.00</td>\n    </tr>\n  </tbody>\n</table>\n</div>"
     },
     "execution_count": 10,
     "metadata": {},
     "output_type": "execute_result"
    }
   ],
   "source": [
    "df1.describe().T"
   ]
  },
  {
   "cell_type": "markdown",
   "id": "cdcaa261",
   "metadata": {
    "papermill": {
     "duration": 0.01057,
     "end_time": "2023-11-15T00:45:14.326615",
     "exception": false,
     "start_time": "2023-11-15T00:45:14.316045",
     "status": "completed"
    },
    "tags": [],
    "ExecuteTime": {
     "end_time": "2023-12-02T13:37:50.343651Z",
     "start_time": "2023-12-02T13:37:50.341589Z"
    }
   },
   "source": [
    "## Check the features with 0 value"
   ]
  },
  {
   "cell_type": "code",
   "execution_count": 11,
   "id": "e899b041",
   "metadata": {
    "execution": {
     "iopub.execute_input": "2023-11-15T00:45:14.350195Z",
     "iopub.status.busy": "2023-11-15T00:45:14.349773Z",
     "iopub.status.idle": "2023-11-15T00:45:14.356737Z",
     "shell.execute_reply": "2023-11-15T00:45:14.355908Z"
    },
    "papermill": {
     "duration": 0.021607,
     "end_time": "2023-11-15T00:45:14.359122",
     "exception": false,
     "start_time": "2023-11-15T00:45:14.337515",
     "status": "completed"
    },
    "tags": [],
    "ExecuteTime": {
     "end_time": "2023-12-02T13:00:48.613124Z",
     "start_time": "2023-12-02T13:00:48.607501Z"
    }
   },
   "outputs": [
    {
     "name": "stdout",
     "output_type": "stream",
     "text": [
      "Pregnancies                 111\n",
      "Glucose                       5\n",
      "BloodPressure                35\n",
      "SkinThickness               227\n",
      "Insulin                     374\n",
      "BMI                          11\n",
      "DiabetesPedigreeFunction      0\n",
      "Age                           0\n",
      "Outcome                     500\n",
      "dtype: int64\n"
     ]
    }
   ],
   "source": [
    "zero_counts = df1.eq(0).sum()\n",
    "print(zero_counts)"
   ]
  },
  {
   "cell_type": "markdown",
   "id": "cc2d061a",
   "metadata": {
    "papermill": {
     "duration": 0.010777,
     "end_time": "2023-11-15T00:45:14.381060",
     "exception": false,
     "start_time": "2023-11-15T00:45:14.370283",
     "status": "completed"
    },
    "tags": [],
    "ExecuteTime": {
     "end_time": "2023-12-02T13:37:50.740158Z",
     "start_time": "2023-12-02T13:37:50.732881Z"
    }
   },
   "source": [
    "## Replace 0 values in important features with median value"
   ]
  },
  {
   "cell_type": "code",
   "execution_count": 12,
   "id": "9c6331db",
   "metadata": {
    "execution": {
     "iopub.execute_input": "2023-11-15T00:45:14.405800Z",
     "iopub.status.busy": "2023-11-15T00:45:14.404546Z",
     "iopub.status.idle": "2023-11-15T00:45:14.417207Z",
     "shell.execute_reply": "2023-11-15T00:45:14.416170Z"
    },
    "papermill": {
     "duration": 0.027888,
     "end_time": "2023-11-15T00:45:14.419961",
     "exception": false,
     "start_time": "2023-11-15T00:45:14.392073",
     "status": "completed"
    },
    "tags": [],
    "ExecuteTime": {
     "end_time": "2023-12-02T13:00:49.407847Z",
     "start_time": "2023-12-02T13:00:49.398633Z"
    }
   },
   "outputs": [],
   "source": [
    "df1['Glucose'] = df1['Glucose'].replace(0, np.median(df1['Glucose']))\n",
    "df1['BloodPressure'] = df1['BloodPressure'].replace(0, np.median(df1['BloodPressure']))\n",
    "df1['SkinThickness'] = df1['SkinThickness'].replace(0, np.median(df1['SkinThickness']))\n",
    "df1['Insulin'] = df1['Insulin'].replace(0, np.median(df1['Insulin']))\n",
    "df1['BMI'] = df1['BMI'].replace(0, np.median(df1['BMI']))"
   ]
  },
  {
   "cell_type": "markdown",
   "id": "09e0d064",
   "metadata": {
    "papermill": {
     "duration": 0.010803,
     "end_time": "2023-11-15T00:45:14.442007",
     "exception": false,
     "start_time": "2023-11-15T00:45:14.431204",
     "status": "completed"
    },
    "tags": [],
    "ExecuteTime": {
     "end_time": "2023-12-02T13:37:51.275818Z",
     "start_time": "2023-12-02T13:37:51.150044Z"
    }
   },
   "source": [
    "## Create Logistic Regression Model"
   ]
  },
  {
   "cell_type": "code",
   "execution_count": 13,
   "id": "3eb234e8",
   "metadata": {
    "execution": {
     "iopub.execute_input": "2023-11-15T00:45:14.466229Z",
     "iopub.status.busy": "2023-11-15T00:45:14.465788Z",
     "iopub.status.idle": "2023-11-15T00:45:14.824253Z",
     "shell.execute_reply": "2023-11-15T00:45:14.823076Z"
    },
    "papermill": {
     "duration": 0.373953,
     "end_time": "2023-11-15T00:45:14.827086",
     "exception": false,
     "start_time": "2023-11-15T00:45:14.453133",
     "status": "completed"
    },
    "tags": [],
    "ExecuteTime": {
     "end_time": "2023-12-02T13:00:50.455092Z",
     "start_time": "2023-12-02T13:00:50.235673Z"
    }
   },
   "outputs": [],
   "source": [
    "from sklearn.model_selection import train_test_split\n",
    "from sklearn.preprocessing import StandardScaler\n",
    "from sklearn.linear_model import LogisticRegression\n",
    "from sklearn.metrics import accuracy_score"
   ]
  },
  {
   "cell_type": "markdown",
   "id": "227d04b9",
   "metadata": {
    "papermill": {
     "duration": 0.010706,
     "end_time": "2023-11-15T00:45:14.849005",
     "exception": false,
     "start_time": "2023-11-15T00:45:14.838299",
     "status": "completed"
    },
    "tags": [],
    "ExecuteTime": {
     "end_time": "2023-12-02T13:37:51.631234Z",
     "start_time": "2023-12-02T13:37:51.627449Z"
    }
   },
   "source": [
    "## Split features and target"
   ]
  },
  {
   "cell_type": "code",
   "execution_count": 14,
   "id": "e5f0ea9f",
   "metadata": {
    "execution": {
     "iopub.execute_input": "2023-11-15T00:45:14.873148Z",
     "iopub.status.busy": "2023-11-15T00:45:14.872693Z",
     "iopub.status.idle": "2023-11-15T00:45:14.879314Z",
     "shell.execute_reply": "2023-11-15T00:45:14.878097Z"
    },
    "papermill": {
     "duration": 0.021924,
     "end_time": "2023-11-15T00:45:14.881864",
     "exception": false,
     "start_time": "2023-11-15T00:45:14.859940",
     "status": "completed"
    },
    "tags": [],
    "ExecuteTime": {
     "end_time": "2023-12-02T13:00:51.276239Z",
     "start_time": "2023-12-02T13:00:51.272612Z"
    }
   },
   "outputs": [],
   "source": [
    "X = df1.drop('Outcome', axis=1) \n",
    "y = df1['Outcome']"
   ]
  },
  {
   "cell_type": "markdown",
   "id": "9dff9a75",
   "metadata": {
    "papermill": {
     "duration": 0.010933,
     "end_time": "2023-11-15T00:45:14.904011",
     "exception": false,
     "start_time": "2023-11-15T00:45:14.893078",
     "status": "completed"
    },
    "tags": [],
    "ExecuteTime": {
     "end_time": "2023-12-02T13:37:52.373822Z",
     "start_time": "2023-12-02T13:37:52.359914Z"
    }
   },
   "source": [
    "## Split train and test sets"
   ]
  },
  {
   "cell_type": "code",
   "execution_count": 15,
   "id": "1ace5573",
   "metadata": {
    "execution": {
     "iopub.execute_input": "2023-11-15T00:45:14.928541Z",
     "iopub.status.busy": "2023-11-15T00:45:14.927886Z",
     "iopub.status.idle": "2023-11-15T00:45:14.935651Z",
     "shell.execute_reply": "2023-11-15T00:45:14.934367Z"
    },
    "papermill": {
     "duration": 0.023231,
     "end_time": "2023-11-15T00:45:14.938369",
     "exception": false,
     "start_time": "2023-11-15T00:45:14.915138",
     "status": "completed"
    },
    "tags": [],
    "ExecuteTime": {
     "end_time": "2023-12-02T13:00:52.137057Z",
     "start_time": "2023-12-02T13:00:52.134317Z"
    }
   },
   "outputs": [],
   "source": [
    "X_train, X_test, y_train, y_test = train_test_split(X, y, test_size=0.2, random_state=0)"
   ]
  },
  {
   "cell_type": "markdown",
   "id": "825aa26c",
   "metadata": {
    "papermill": {
     "duration": 0.010798,
     "end_time": "2023-11-15T00:45:14.960592",
     "exception": false,
     "start_time": "2023-11-15T00:45:14.949794",
     "status": "completed"
    },
    "tags": [],
    "ExecuteTime": {
     "end_time": "2023-12-02T13:37:53.169971Z",
     "start_time": "2023-12-02T13:37:53.164401Z"
    }
   },
   "source": [
    "## Feature scaling"
   ]
  },
  {
   "cell_type": "code",
   "execution_count": 16,
   "id": "c547cbec",
   "metadata": {
    "execution": {
     "iopub.execute_input": "2023-11-15T00:45:14.985022Z",
     "iopub.status.busy": "2023-11-15T00:45:14.984595Z",
     "iopub.status.idle": "2023-11-15T00:45:14.997559Z",
     "shell.execute_reply": "2023-11-15T00:45:14.996375Z"
    },
    "papermill": {
     "duration": 0.028398,
     "end_time": "2023-11-15T00:45:15.000148",
     "exception": false,
     "start_time": "2023-11-15T00:45:14.971750",
     "status": "completed"
    },
    "tags": [],
    "ExecuteTime": {
     "end_time": "2023-12-02T13:00:52.925036Z",
     "start_time": "2023-12-02T13:00:52.922084Z"
    }
   },
   "outputs": [],
   "source": [
    "scaler = StandardScaler()\n",
    "X_train = scaler.fit_transform(X_train)\n",
    "X_test = scaler.transform(X_test)"
   ]
  },
  {
   "cell_type": "markdown",
   "id": "a3805b62",
   "metadata": {
    "papermill": {
     "duration": 0.01076,
     "end_time": "2023-11-15T00:45:15.022042",
     "exception": false,
     "start_time": "2023-11-15T00:45:15.011282",
     "status": "completed"
    },
    "tags": [],
    "ExecuteTime": {
     "end_time": "2023-12-02T13:37:53.730631Z",
     "start_time": "2023-12-02T13:37:53.724533Z"
    }
   },
   "source": [
    "## Train model"
   ]
  },
  {
   "cell_type": "code",
   "execution_count": 17,
   "id": "46de67c7",
   "metadata": {
    "execution": {
     "iopub.execute_input": "2023-11-15T00:45:15.046521Z",
     "iopub.status.busy": "2023-11-15T00:45:15.046097Z",
     "iopub.status.idle": "2023-11-15T00:45:15.067030Z",
     "shell.execute_reply": "2023-11-15T00:45:15.065895Z"
    },
    "papermill": {
     "duration": 0.036364,
     "end_time": "2023-11-15T00:45:15.069632",
     "exception": false,
     "start_time": "2023-11-15T00:45:15.033268",
     "status": "completed"
    },
    "tags": [],
    "ExecuteTime": {
     "end_time": "2023-12-02T13:00:53.678033Z",
     "start_time": "2023-12-02T13:00:53.668393Z"
    }
   },
   "outputs": [
    {
     "data": {
      "text/plain": "LogisticRegression()",
      "text/html": "<style>#sk-container-id-1 {color: black;}#sk-container-id-1 pre{padding: 0;}#sk-container-id-1 div.sk-toggleable {background-color: white;}#sk-container-id-1 label.sk-toggleable__label {cursor: pointer;display: block;width: 100%;margin-bottom: 0;padding: 0.3em;box-sizing: border-box;text-align: center;}#sk-container-id-1 label.sk-toggleable__label-arrow:before {content: \"▸\";float: left;margin-right: 0.25em;color: #696969;}#sk-container-id-1 label.sk-toggleable__label-arrow:hover:before {color: black;}#sk-container-id-1 div.sk-estimator:hover label.sk-toggleable__label-arrow:before {color: black;}#sk-container-id-1 div.sk-toggleable__content {max-height: 0;max-width: 0;overflow: hidden;text-align: left;background-color: #f0f8ff;}#sk-container-id-1 div.sk-toggleable__content pre {margin: 0.2em;color: black;border-radius: 0.25em;background-color: #f0f8ff;}#sk-container-id-1 input.sk-toggleable__control:checked~div.sk-toggleable__content {max-height: 200px;max-width: 100%;overflow: auto;}#sk-container-id-1 input.sk-toggleable__control:checked~label.sk-toggleable__label-arrow:before {content: \"▾\";}#sk-container-id-1 div.sk-estimator input.sk-toggleable__control:checked~label.sk-toggleable__label {background-color: #d4ebff;}#sk-container-id-1 div.sk-label input.sk-toggleable__control:checked~label.sk-toggleable__label {background-color: #d4ebff;}#sk-container-id-1 input.sk-hidden--visually {border: 0;clip: rect(1px 1px 1px 1px);clip: rect(1px, 1px, 1px, 1px);height: 1px;margin: -1px;overflow: hidden;padding: 0;position: absolute;width: 1px;}#sk-container-id-1 div.sk-estimator {font-family: monospace;background-color: #f0f8ff;border: 1px dotted black;border-radius: 0.25em;box-sizing: border-box;margin-bottom: 0.5em;}#sk-container-id-1 div.sk-estimator:hover {background-color: #d4ebff;}#sk-container-id-1 div.sk-parallel-item::after {content: \"\";width: 100%;border-bottom: 1px solid gray;flex-grow: 1;}#sk-container-id-1 div.sk-label:hover label.sk-toggleable__label {background-color: #d4ebff;}#sk-container-id-1 div.sk-serial::before {content: \"\";position: absolute;border-left: 1px solid gray;box-sizing: border-box;top: 0;bottom: 0;left: 50%;z-index: 0;}#sk-container-id-1 div.sk-serial {display: flex;flex-direction: column;align-items: center;background-color: white;padding-right: 0.2em;padding-left: 0.2em;position: relative;}#sk-container-id-1 div.sk-item {position: relative;z-index: 1;}#sk-container-id-1 div.sk-parallel {display: flex;align-items: stretch;justify-content: center;background-color: white;position: relative;}#sk-container-id-1 div.sk-item::before, #sk-container-id-1 div.sk-parallel-item::before {content: \"\";position: absolute;border-left: 1px solid gray;box-sizing: border-box;top: 0;bottom: 0;left: 50%;z-index: -1;}#sk-container-id-1 div.sk-parallel-item {display: flex;flex-direction: column;z-index: 1;position: relative;background-color: white;}#sk-container-id-1 div.sk-parallel-item:first-child::after {align-self: flex-end;width: 50%;}#sk-container-id-1 div.sk-parallel-item:last-child::after {align-self: flex-start;width: 50%;}#sk-container-id-1 div.sk-parallel-item:only-child::after {width: 0;}#sk-container-id-1 div.sk-dashed-wrapped {border: 1px dashed gray;margin: 0 0.4em 0.5em 0.4em;box-sizing: border-box;padding-bottom: 0.4em;background-color: white;}#sk-container-id-1 div.sk-label label {font-family: monospace;font-weight: bold;display: inline-block;line-height: 1.2em;}#sk-container-id-1 div.sk-label-container {text-align: center;}#sk-container-id-1 div.sk-container {/* jupyter's `normalize.less` sets `[hidden] { display: none; }` but bootstrap.min.css set `[hidden] { display: none !important; }` so we also need the `!important` here to be able to override the default hidden behavior on the sphinx rendered scikit-learn.org. See: https://github.com/scikit-learn/scikit-learn/issues/21755 */display: inline-block !important;position: relative;}#sk-container-id-1 div.sk-text-repr-fallback {display: none;}</style><div id=\"sk-container-id-1\" class=\"sk-top-container\"><div class=\"sk-text-repr-fallback\"><pre>LogisticRegression()</pre><b>In a Jupyter environment, please rerun this cell to show the HTML representation or trust the notebook. <br />On GitHub, the HTML representation is unable to render, please try loading this page with nbviewer.org.</b></div><div class=\"sk-container\" hidden><div class=\"sk-item\"><div class=\"sk-estimator sk-toggleable\"><input class=\"sk-toggleable__control sk-hidden--visually\" id=\"sk-estimator-id-1\" type=\"checkbox\" checked><label for=\"sk-estimator-id-1\" class=\"sk-toggleable__label sk-toggleable__label-arrow\">LogisticRegression</label><div class=\"sk-toggleable__content\"><pre>LogisticRegression()</pre></div></div></div></div></div>"
     },
     "execution_count": 17,
     "metadata": {},
     "output_type": "execute_result"
    }
   ],
   "source": [
    "model = LogisticRegression(solver = 'lbfgs')\n",
    "model.fit(X_train, y_train)"
   ]
  },
  {
   "cell_type": "markdown",
   "id": "0d2ba005",
   "metadata": {
    "papermill": {
     "duration": 0.011767,
     "end_time": "2023-11-15T00:45:15.093096",
     "exception": false,
     "start_time": "2023-11-15T00:45:15.081329",
     "status": "completed"
    },
    "tags": []
   },
   "source": []
  },
  {
   "cell_type": "markdown",
   "id": "e5d80966",
   "metadata": {
    "papermill": {
     "duration": 0.011309,
     "end_time": "2023-11-15T00:45:15.116659",
     "exception": false,
     "start_time": "2023-11-15T00:45:15.105350",
     "status": "completed"
    },
    "tags": [],
    "ExecuteTime": {
     "end_time": "2023-12-02T13:37:54.529235Z",
     "start_time": "2023-12-02T13:37:54.523088Z"
    }
   },
   "source": [
    "## Evaluation model"
   ]
  },
  {
   "cell_type": "code",
   "execution_count": 19,
   "id": "4b56b7cf",
   "metadata": {
    "execution": {
     "iopub.execute_input": "2023-11-15T00:45:15.141414Z",
     "iopub.status.busy": "2023-11-15T00:45:15.141005Z",
     "iopub.status.idle": "2023-11-15T00:45:15.149223Z",
     "shell.execute_reply": "2023-11-15T00:45:15.148017Z"
    },
    "papermill": {
     "duration": 0.023542,
     "end_time": "2023-11-15T00:45:15.151643",
     "exception": false,
     "start_time": "2023-11-15T00:45:15.128101",
     "status": "completed"
    },
    "tags": [],
    "ExecuteTime": {
     "end_time": "2023-12-02T13:03:18.093591Z",
     "start_time": "2023-12-02T13:03:18.079346Z"
    }
   },
   "outputs": [
    {
     "name": "stdout",
     "output_type": "stream",
     "text": [
      "Model Accuracy:  % 81.81818181818183\n"
     ]
    }
   ],
   "source": [
    "y_pred = model.predict(X_test)\n",
    "print('Model Accuracy: ', '%', accuracy_score(y_test, y_pred) * 100)"
   ]
  },
  {
   "cell_type": "markdown",
   "source": [],
   "metadata": {
    "collapsed": false
   },
   "id": "5d20ff05be4fa78a"
  },
  {
   "cell_type": "markdown",
   "source": [
    "## Save Model"
   ],
   "metadata": {
    "collapsed": false,
    "ExecuteTime": {
     "end_time": "2023-12-02T13:37:55.476810Z",
     "start_time": "2023-12-02T13:37:55.467285Z"
    }
   },
   "id": "7dc7c1a70fdfcf98"
  },
  {
   "cell_type": "code",
   "execution_count": 18,
   "outputs": [],
   "source": [
    "filename = '../models/finalized_lg_model_diabetes.pkl'\n",
    "pickle.dump(model, open(filename,'wb'))"
   ],
   "metadata": {
    "collapsed": false,
    "ExecuteTime": {
     "end_time": "2023-12-02T13:37:55.811672Z",
     "start_time": "2023-12-02T13:37:55.809871Z"
    }
   },
   "id": "a02d161acdc71b52"
  },
  {
   "cell_type": "code",
   "execution_count": 19,
   "outputs": [],
   "source": [
    "loaded_model = pickle.load(open(filename, 'rb'))"
   ],
   "metadata": {
    "collapsed": false,
    "ExecuteTime": {
     "end_time": "2023-12-02T13:37:56.200720Z",
     "start_time": "2023-12-02T13:37:56.198776Z"
    }
   },
   "id": "67ec03a24991bec2"
  },
  {
   "cell_type": "code",
   "execution_count": 20,
   "outputs": [
    {
     "name": "stdout",
     "output_type": "stream",
     "text": [
      "It is predicted that this patient would have diabetes.\n"
     ]
    }
   ],
   "source": [
    "person_data_diabetes = {\n",
    "    'Pregnancies': 5,\n",
    "    'Glucose': 150,\n",
    "    'BloodPressure': 80,\n",
    "    'SkinThickness': 35,\n",
    "    'Insulin': 220,\n",
    "    'BMI': 34.5,\n",
    "    'DiabetesPedigreeFunction': 0.56,\n",
    "    'Age': 45\n",
    "}"
   ],
   "metadata": {
    "collapsed": false,
    "ExecuteTime": {
     "end_time": "2023-12-02T13:37:56.512164Z",
     "start_time": "2023-12-02T13:37:56.507543Z"
    }
   },
   "id": "907ac6729a352555"
  },
  {
   "cell_type": "code",
   "execution_count": 20,
   "outputs": [],
   "source": [
    "input_df = pd.DataFrame([person_data_diabetes])\n",
    "pred = loaded_model.predict(input_df)[0]\n",
    "if pred == 0:\n",
    "    print('It is predicted that this patient does not have diabetes.')\n",
    "else: \n",
    "    print('It is predicted that this patient would have diabetes.')"
   ],
   "metadata": {
    "collapsed": false,
    "ExecuteTime": {
     "end_time": "2023-12-02T13:37:57.607846Z",
     "start_time": "2023-12-02T13:37:57.580949Z"
    }
   },
   "id": "b0247e655bfdab7d"
  },
  {
   "cell_type": "code",
   "execution_count": null,
   "outputs": [],
   "source": [],
   "metadata": {
    "collapsed": false
   },
   "id": "f0c98e01b2ace82d"
  }
 ],
 "metadata": {
  "kaggle": {
   "accelerator": "none",
   "dataSources": [
    {
     "datasetId": 818300,
     "sourceId": 1400440,
     "sourceType": "datasetVersion"
    }
   ],
   "dockerImageVersionId": 30579,
   "isGpuEnabled": false,
   "isInternetEnabled": true,
   "language": "python",
   "sourceType": "notebook"
  },
  "kernelspec": {
   "display_name": "Python 3",
   "language": "python",
   "name": "python3"
  },
  "language_info": {
   "codemirror_mode": {
    "name": "ipython",
    "version": 3
   },
   "file_extension": ".py",
   "mimetype": "text/x-python",
   "name": "python",
   "nbconvert_exporter": "python",
   "pygments_lexer": "ipython3",
   "version": "3.10.12"
  },
  "papermill": {
   "default_parameters": {},
   "duration": 7.68422,
   "end_time": "2023-11-15T00:45:15.784237",
   "environment_variables": {},
   "exception": null,
   "input_path": "__notebook__.ipynb",
   "output_path": "__notebook__.ipynb",
   "parameters": {},
   "start_time": "2023-11-15T00:45:08.100017",
   "version": "2.4.0"
  }
 },
 "nbformat": 4,
 "nbformat_minor": 5
}
